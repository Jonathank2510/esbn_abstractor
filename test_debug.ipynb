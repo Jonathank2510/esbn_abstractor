{
 "cells": [
  {
   "cell_type": "code",
   "execution_count": 1,
   "metadata": {},
   "outputs": [
    {
     "data": {
      "text/plain": [
       "<tf.Tensor: shape=(1, 4), dtype=float32, numpy=array([[0.22054738, 0.28894836, 0.25515136, 0.23535292]], dtype=float32)>"
      ]
     },
     "execution_count": 1,
     "metadata": {},
     "output_type": "execute_result"
    }
   ],
   "source": [
    "import tensorflow as tf\n",
    "from Models.ESBN_reimplementation import Dist3Transformer\n",
    "\n",
    "transformer = Dist3Transformer()\n",
    "tf.config.run_functions_eagerly(False)\n",
    "transformer(tf.random.normal((1, 9, 32, 32)))"
   ]
  }
 ],
 "metadata": {
  "kernelspec": {
   "display_name": "esbn_abstractor",
   "language": "python",
   "name": "python3"
  },
  "language_info": {
   "codemirror_mode": {
    "name": "ipython",
    "version": 3
   },
   "file_extension": ".py",
   "mimetype": "text/x-python",
   "name": "python",
   "nbconvert_exporter": "python",
   "pygments_lexer": "ipython3",
   "version": "3.10.14"
  }
 },
 "nbformat": 4,
 "nbformat_minor": 2
}
