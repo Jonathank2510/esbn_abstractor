{
 "cells": [
  {
   "cell_type": "code",
   "execution_count": 1,
   "metadata": {},
   "outputs": [
    {
     "name": "stdout",
     "output_type": "stream",
     "text": [
      "before mean\n",
      "TensorShape([1, 9, 128])\n",
      "[[[1.19485772 -0.624339283 -0.653188944 ... -0.804580927 -0.0562051 -0.367338836]\n",
      "  [-0.0518913232 -0.476961941 0.297164053 ... -0.64618957 -0.490757614 -0.764841139]\n",
      "  [-1.17344201 -1.01259613 -0.288247585 ... -0.556233287 -1.82004154 0.843286335]\n",
      "  ...\n",
      "  [0.838496387 -0.338057458 -0.315887392 ... 2.11317682 2.13133407 -1.06245387]\n",
      "  [0.711453438 -0.612477183 0.0283084381 ... -0.15598242 -0.377774745 -0.108454198]\n",
      "  [-0.328357518 0.438627124 -0.360949278 ... 0.182251528 -1.30924332 -0.0628993139]]]\n",
      "reduce_mean\n",
      "TensorShape([1, 128])\n",
      "[[-0.0761914 0.0728552639 0.24247238 ... 0.235092103 -0.221178949 -0.190211117]]\n"
     ]
    },
    {
     "name": "stderr",
     "output_type": "stream",
     "text": [
      "2024-04-01 16:44:13.465874: W tensorflow/tsl/platform/profile_utils/cpu_utils.cc:128] Failed to get CPU frequency: 0 Hz\n"
     ]
    },
    {
     "data": {
      "text/plain": [
       "<tf.Tensor: shape=(1, 4), dtype=float32, numpy=array([[0.12202037, 0.36271033, 0.2959148 , 0.2193545 ]], dtype=float32)>"
      ]
     },
     "execution_count": 1,
     "metadata": {},
     "output_type": "execute_result"
    }
   ],
   "source": [
    "import tensorflow as tf\n",
    "from Models.ESBN_reimplementation import Dist3Transformer\n",
    "\n",
    "transformer = Dist3Transformer()\n",
    "\n",
    "transformer(tf.random.normal((1, 9, 32, 32)))"
   ]
  }
 ],
 "metadata": {
  "kernelspec": {
   "display_name": "esbn_abstractor",
   "language": "python",
   "name": "python3"
  },
  "language_info": {
   "codemirror_mode": {
    "name": "ipython",
    "version": 3
   },
   "file_extension": ".py",
   "mimetype": "text/x-python",
   "name": "python",
   "nbconvert_exporter": "python",
   "pygments_lexer": "ipython3",
   "version": "3.10.14"
  }
 },
 "nbformat": 4,
 "nbformat_minor": 2
}
