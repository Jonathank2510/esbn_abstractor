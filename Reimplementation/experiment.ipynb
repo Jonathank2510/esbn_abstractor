{
 "cells": [
  {
   "cell_type": "code",
   "execution_count": 7,
   "metadata": {},
   "outputs": [],
   "source": [
    "from train_and_eval import train\n",
    "from create_task import *\n",
    "from ESBN_reimplementation import ESBN\n",
    "import numpy as np\n",
    "import tensorflow as tf\n",
    "from PIL import Image\n",
    "import tensorboard\n",
    "%load_ext tensorboard"
   ]
  },
  {
   "cell_type": "markdown",
   "metadata": {},
   "source": [
    "In this notebook, we run the relevant code for replicating the original findings of (Webb 2021) and implementing a relational bottleneck as a seperate processing stream in deep language models.\n",
    "Firstly, we will run the training script for the replication and evaluate the performance of both the esbn, a transformer and the abstractor (Webb 2023).\n",
    "Secondly, we will integrate the abstractor and the esbn into a small language model and compare the performance with a transformer of similar size."
   ]
  },
  {
   "cell_type": "code",
   "execution_count": 2,
   "metadata": {},
   "outputs": [],
   "source": [
    "from create_task import create_task"
   ]
  },
  {
   "cell_type": "code",
   "execution_count": 3,
   "metadata": {},
   "outputs": [],
   "source": [
    "# Set experiment parameters\n",
    "m_holdout = 0\n",
    "n_shapes = 10\n",
    "y_dim = 4\n",
    "\n",
    "\n",
    "# Set train parameters\n",
    "batch_size = 32\n",
    "train_set_size = 1000\n",
    "train_proportion = 0.95\n",
    "epochs = 5\n",
    "lr = 5e-4\n",
    "loss_fn = tf.keras.losses.SparseCategoricalCrossentropy()\n",
    "optimizer = tf.keras.optimizers.Adam(learning_rate=lr)\n",
    "\n",
    "# Set test parameters\n",
    "test_batch_size = 100\n",
    "test_set_size = 1000\n",
    "\n",
    "# Randomly assigns objects to training or test set\n",
    "all_shapes = np.arange(n_shapes)\n",
    "np.random.shuffle(all_shapes)\n",
    "if m_holdout > 0:\n",
    "    train_shapes = all_shapes[m_holdout:]\n",
    "    test_shapes = all_shapes[:m_holdout]\n",
    "else:\n",
    "    train_shapes = all_shapes\n",
    "    test_shapes = all_shapes\n",
    "\n",
    "\n",
    "# Generate training and test sets\n",
    "train_set, test_set = create_task(train_shapes, test_shapes, train_set_size, test_set_size, train_proportion, m_holdout, n_shapes)\n",
    "train_data = tf.data.Dataset.from_tensor_slices(train_set).batch(batch_size).prefetch(20)\n",
    "test_data = tf.data.Dataset.from_tensor_slices(test_set).batch(batch_size).prefetch(20)\n",
    "\n",
    "# Load images\n",
    "all_imgs = []\n",
    "for i in range(n_shapes):\n",
    "    img_fname = \"../imgs/\" + str(i) + \".png\"\n",
    "    img = tf.convert_to_tensor(np.array(Image.open(img_fname)), dtype=tf.float32) / 255.\n",
    "    all_imgs.append(img)\n",
    "all_imgs = tf.stack(all_imgs, 0)"
   ]
  },
  {
   "cell_type": "code",
   "execution_count": 4,
   "metadata": {},
   "outputs": [
    {
     "name": "stderr",
     "output_type": "stream",
     "text": [
      "2024-02-23 15:05:00.142641: I tensorflow/core/common_runtime/executor.cc:1197] [/device:CPU:0] (DEBUG INFO) Executor start aborting (this does not indicate an error and you can ignore this message): INVALID_ARGUMENT: You must feed a value for placeholder tensor 'Placeholder/_1' with dtype int64 and shape [1000]\n",
      "\t [[{{node Placeholder/_1}}]]\n",
      "32it [00:07,  4.01it/s]\n",
      "2024-02-23 15:05:08.159328: I tensorflow/core/common_runtime/executor.cc:1197] [/device:CPU:0] (DEBUG INFO) Executor start aborting (this does not indicate an error and you can ignore this message): INVALID_ARGUMENT: You must feed a value for placeholder tensor 'Placeholder/_1' with dtype int64 and shape [1000]\n",
      "\t [[{{node Placeholder/_1}}]]\n",
      "32it [00:07,  4.41it/s]\n",
      "32it [00:06,  4.71it/s]\n",
      "32it [00:06,  4.88it/s]\n",
      "32it [00:06,  4.86it/s]\n"
     ]
    }
   ],
   "source": [
    "# Remove previous logs\n",
    "%rm -rf ./logs/\n",
    "# Create model\n",
    "model = ESBN(y_dim)\n",
    "# Train and evaluate\n",
    "train(model, train_data, test_data, all_imgs, optimizer, loss_fn, epochs)"
   ]
  },
  {
   "cell_type": "code",
   "execution_count": 10,
   "metadata": {},
   "outputs": [
    {
     "data": {
      "text/html": [
       "\n",
       "      <iframe id=\"tensorboard-frame-f915f24dd276deda\" width=\"100%\" height=\"800\" frameborder=\"0\">\n",
       "      </iframe>\n",
       "      <script>\n",
       "        (function() {\n",
       "          const frame = document.getElementById(\"tensorboard-frame-f915f24dd276deda\");\n",
       "          const url = new URL(\"/\", window.location);\n",
       "          const port = 6011;\n",
       "          if (port) {\n",
       "            url.port = port;\n",
       "          }\n",
       "          frame.src = url;\n",
       "        })();\n",
       "      </script>\n",
       "    "
      ],
      "text/plain": [
       "<IPython.core.display.HTML object>"
      ]
     },
     "metadata": {},
     "output_type": "display_data"
    }
   ],
   "source": [
    "# View results in tensorboard\n",
    "%tensorboard --logdir ../logs/gradient_tape"
   ]
  }
 ],
 "metadata": {
  "kernelspec": {
   "display_name": "iannwtf",
   "language": "python",
   "name": "python3"
  },
  "language_info": {
   "codemirror_mode": {
    "name": "ipython",
    "version": 3
   },
   "file_extension": ".py",
   "mimetype": "text/x-python",
   "name": "python",
   "nbconvert_exporter": "python",
   "pygments_lexer": "ipython3",
   "version": "3.8.18"
  }
 },
 "nbformat": 4,
 "nbformat_minor": 2
}
