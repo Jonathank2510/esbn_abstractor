{
 "cells": [
  {
   "cell_type": "code",
   "execution_count": 1,
   "metadata": {},
   "outputs": [
    {
     "name": "stderr",
     "output_type": "stream",
     "text": [
      "2024-03-10 17:48:13.483832: I tensorflow/core/platform/cpu_feature_guard.cc:182] This TensorFlow binary is optimized to use available CPU instructions in performance-critical operations.\n",
      "To enable the following instructions: SSE4.1 SSE4.2, in other operations, rebuild TensorFlow with the appropriate compiler flags.\n"
     ]
    },
    {
     "name": "stdout",
     "output_type": "stream",
     "text": [
      "Intel MKL WARNING: Support of Intel(R) Streaming SIMD Extensions 4.2 (Intel(R) SSE4.2) enabled only processors has been deprecated. Intel oneAPI Math Kernel Library 2025.0 will require Intel(R) Advanced Vector Extensions (Intel(R) AVX) instructions.\n",
      "Intel MKL WARNING: Support of Intel(R) Streaming SIMD Extensions 4.2 (Intel(R) SSE4.2) enabled only processors has been deprecated. Intel oneAPI Math Kernel Library 2025.0 will require Intel(R) Advanced Vector Extensions (Intel(R) AVX) instructions.\n"
     ]
    }
   ],
   "source": [
    "from train_and_eval import train\n",
    "from create_task import *\n",
    "from ESBN_reimplementation import ESBN\n",
    "import numpy as np\n",
    "import tensorflow as tf\n",
    "from PIL import Image\n",
    "import tensorboard\n",
    "import datetime\n",
    "%load_ext tensorboard"
   ]
  },
  {
   "cell_type": "markdown",
   "metadata": {},
   "source": [
    "In this notebook, we run the relevant code for replicating the original findings of (Webb 2021) and implementing a relational bottleneck as a seperate processing stream in deep language models.\n",
    "Firstly, we will run the training script for the replication and evaluate the performance of both the esbn, a transformer and the abstractor (Webb 2023).\n",
    "Secondly, we will integrate the abstractor and the esbn into a small language model and compare the performance with a transformer of similar size."
   ]
  },
  {
   "cell_type": "code",
   "execution_count": 2,
   "metadata": {},
   "outputs": [],
   "source": [
    "# Set experiment parameters\n",
    "m_holdout = 0\n",
    "n_shapes = 10\n",
    "y_dim = 4\n",
    "\n",
    "\n",
    "# Set train parameters\n",
    "batch_size = 32\n",
    "train_set_size = 360\n",
    "train_proportion = 0.95\n",
    "epochs = 150\n",
    "lr = 5e-4\n",
    "loss_fn = tf.keras.losses.SparseCategoricalCrossentropy()\n",
    "optimizer = tf.keras.optimizers.Adam(learning_rate=lr)\n",
    "\n",
    "# Set test parameters\n",
    "test_batch_size = 32\n",
    "test_set_size = 100\n",
    "\n",
    "# Randomly assigns objects to training or test set\n",
    "all_shapes = np.arange(n_shapes)\n",
    "np.random.shuffle(all_shapes)\n",
    "if m_holdout > 0:\n",
    "    train_shapes = all_shapes[m_holdout:]\n",
    "    test_shapes = all_shapes[:m_holdout]\n",
    "else:\n",
    "    train_shapes = all_shapes\n",
    "    test_shapes = all_shapes\n",
    "\n",
    "\n",
    "# Generate training and test sets\n",
    "train_set, test_set = create_task(train_shapes, test_shapes, train_set_size, test_set_size, train_proportion, m_holdout, n_shapes)\n",
    "train_data = tf.data.Dataset.from_tensor_slices(train_set).batch(batch_size).prefetch(20)\n",
    "test_data = tf.data.Dataset.from_tensor_slices(test_set).batch(batch_size).prefetch(20)\n",
    "\n",
    "# Load images\n",
    "all_imgs = []\n",
    "for i in range(n_shapes):\n",
    "    img_fname = \"../imgs/\" + str(i) + \".png\"\n",
    "    img = tf.convert_to_tensor(np.array(Image.open(img_fname)), dtype=tf.float32) / 255.\n",
    "    all_imgs.append(img)\n",
    "all_imgs = tf.stack(all_imgs, 0)"
   ]
  },
  {
   "cell_type": "code",
   "execution_count": 3,
   "metadata": {},
   "outputs": [
    {
     "name": "stderr",
     "output_type": "stream",
     "text": [
      "Epoch: 0:   0%|          | 0/12 [00:00<?, ?it/s]2024-03-10 17:48:17.296183: I tensorflow/core/common_runtime/executor.cc:1197] [/device:CPU:0] (DEBUG INFO) Executor start aborting (this does not indicate an error and you can ignore this message): INVALID_ARGUMENT: You must feed a value for placeholder tensor 'Placeholder/_1' with dtype int64 and shape [360]\n",
      "\t [[{{node Placeholder/_1}}]]\n",
      "Epoch: 0: 100%|██████████| 12/12 [00:04<00:00,  2.81it/s]\n",
      "2024-03-10 17:48:21.561318: I tensorflow/core/common_runtime/executor.cc:1197] [/device:CPU:0] (DEBUG INFO) Executor start aborting (this does not indicate an error and you can ignore this message): INVALID_ARGUMENT: You must feed a value for placeholder tensor 'Placeholder/_1' with dtype int64 and shape [100]\n",
      "\t [[{{node Placeholder/_1}}]]\n",
      "Epoch: 1:  25%|██▌       | 3/12 [00:01<00:03,  2.65it/s]"
     ]
    }
   ],
   "source": [
    "# Create model\n",
    "model = ESBN(y_dim)\n",
    "\n",
    "train(model, train_data, test_data, all_imgs, optimizer, loss_fn, epochs)"
   ]
  }
 ],
 "metadata": {
  "kernelspec": {
   "display_name": "iannwtf",
   "language": "python",
   "name": "python3"
  },
  "language_info": {
   "codemirror_mode": {
    "name": "ipython",
    "version": 3
   },
   "file_extension": ".py",
   "mimetype": "text/x-python",
   "name": "python",
   "nbconvert_exporter": "python",
   "pygments_lexer": "ipython3",
   "version": "3.8.18"
  }
 },
 "nbformat": 4,
 "nbformat_minor": 2
}
